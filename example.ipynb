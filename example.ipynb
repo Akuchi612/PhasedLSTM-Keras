{
 "cells": [
  {
   "cell_type": "code",
   "execution_count": 4,
   "metadata": {
    "collapsed": false
   },
   "outputs": [],
   "source": [
    "from keras.models import Sequential\n",
    "from keras.layers import LSTM\n",
    "from PhasedLSTM import PhasedLSTM\n",
    "import matplotlib.pyplot as plt\n",
    "import numpy as np\n",
    "%matplotlib inline"
   ]
  },
  {
   "cell_type": "code",
   "execution_count": 5,
   "metadata": {
    "collapsed": false
   },
   "outputs": [],
   "source": [
    "X = np.random.random((32,100,2))\n",
    "Y = np.random.random((32,10))"
   ]
  },
  {
   "cell_type": "code",
   "execution_count": 6,
   "metadata": {
    "collapsed": false
   },
   "outputs": [
    {
     "name": "stdout",
     "output_type": "stream",
     "text": [
      "____________________________________________________________________________________________________\n",
      "Layer (type)                     Output Shape          Param #     Connected to                     \n",
      "====================================================================================================\n",
      "lstm_1 (LSTM)                    (None, 10)            520         lstm_input_1[0][0]               \n",
      "====================================================================================================\n",
      "Total params: 520\n",
      "____________________________________________________________________________________________________\n"
     ]
    }
   ],
   "source": [
    "model_lstm = Sequential()\n",
    "model_lstm.add(LSTM(10, input_shape=(100,2)))\n",
    "model_lstm.summary()\n",
    "model_lstm.compile('rmsprop','mse')"
   ]
  },
  {
   "cell_type": "code",
   "execution_count": 7,
   "metadata": {
    "collapsed": false
   },
   "outputs": [
    {
     "name": "stdout",
     "output_type": "stream",
     "text": [
      "____________________________________________________________________________________________________\n",
      "Layer (type)                     Output Shape          Param #     Connected to                     \n",
      "====================================================================================================\n",
      "phasedlstm_1 (PhasedLSTM)        (None, 10)            550         phasedlstm_input_1[0][0]         \n",
      "====================================================================================================\n",
      "Total params: 550\n",
      "____________________________________________________________________________________________________\n"
     ]
    }
   ],
   "source": [
    "model_plstm = Sequential()\n",
    "model_plstm.add(PhasedLSTM(10, input_shape=(100,2)))\n",
    "model_plstm.summary()\n",
    "model_plstm.compile('rmsprop','mse')"
   ]
  },
  {
   "cell_type": "code",
   "execution_count": 8,
   "metadata": {
    "collapsed": false,
    "scrolled": true
   },
   "outputs": [
    {
     "name": "stdout",
     "output_type": "stream",
     "text": [
      "Epoch 1/10\n",
      "32/32 [==============================] - 0s - loss: 0.5286\n",
      "Epoch 2/10\n",
      "32/32 [==============================] - 0s - loss: 0.5164\n",
      "Epoch 3/10\n",
      "32/32 [==============================] - 0s - loss: 0.5058\n",
      "Epoch 4/10\n",
      "32/32 [==============================] - 0s - loss: 0.4953\n",
      "Epoch 5/10\n",
      "32/32 [==============================] - 0s - loss: 0.4843\n",
      "Epoch 6/10\n",
      "32/32 [==============================] - 0s - loss: 0.4725\n",
      "Epoch 7/10\n",
      "32/32 [==============================] - 0s - loss: 0.4596\n",
      "Epoch 8/10\n",
      "32/32 [==============================] - 0s - loss: 0.4452\n",
      "Epoch 9/10\n",
      "32/32 [==============================] - 0s - loss: 0.4289\n",
      "Epoch 10/10\n",
      "32/32 [==============================] - 0s - loss: 0.4107\n"
     ]
    },
    {
     "data": {
      "text/plain": [
       "<keras.callbacks.History at 0x11e55add0>"
      ]
     },
     "execution_count": 8,
     "metadata": {},
     "output_type": "execute_result"
    }
   ],
   "source": [
    "model_lstm.fit(X,Y)"
   ]
  },
  {
   "cell_type": "code",
   "execution_count": 9,
   "metadata": {
    "collapsed": false
   },
   "outputs": [
    {
     "name": "stdout",
     "output_type": "stream",
     "text": [
      "Epoch 1/10\n",
      "32/32 [==============================] - 0s - loss: 0.4129\n",
      "Epoch 2/10\n",
      "32/32 [==============================] - 0s - loss: 0.4008\n",
      "Epoch 3/10\n",
      "32/32 [==============================] - 0s - loss: 0.3928\n",
      "Epoch 4/10\n",
      "32/32 [==============================] - 0s - loss: 0.3865\n",
      "Epoch 5/10\n",
      "32/32 [==============================] - 0s - loss: 0.3811\n",
      "Epoch 6/10\n",
      "32/32 [==============================] - 0s - loss: 0.3763\n",
      "Epoch 7/10\n",
      "32/32 [==============================] - 0s - loss: 0.3719\n",
      "Epoch 8/10\n",
      "32/32 [==============================] - 0s - loss: 0.3678\n",
      "Epoch 9/10\n",
      "32/32 [==============================] - 0s - loss: 0.3640\n",
      "Epoch 10/10\n",
      "32/32 [==============================] - 0s - loss: 0.3603\n"
     ]
    },
    {
     "data": {
      "text/plain": [
       "<keras.callbacks.History at 0x12b851950>"
      ]
     },
     "execution_count": 9,
     "metadata": {},
     "output_type": "execute_result"
    }
   ],
   "source": [
    "model_plstm.fit(X,Y)"
   ]
  },
  {
   "cell_type": "code",
   "execution_count": null,
   "metadata": {
    "collapsed": true
   },
   "outputs": [],
   "source": []
  }
 ],
 "metadata": {
  "anaconda-cloud": {},
  "kernelspec": {
   "display_name": "Python [default]",
   "language": "python",
   "name": "python2"
  },
  "language_info": {
   "codemirror_mode": {
    "name": "ipython",
    "version": 2
   },
   "file_extension": ".py",
   "mimetype": "text/x-python",
   "name": "python",
   "nbconvert_exporter": "python",
   "pygments_lexer": "ipython2",
   "version": "2.7.12"
  }
 },
 "nbformat": 4,
 "nbformat_minor": 0
}
